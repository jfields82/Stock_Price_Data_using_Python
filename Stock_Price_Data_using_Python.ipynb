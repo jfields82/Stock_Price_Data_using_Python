{
  "cells": [
    {
      "cell_type": "markdown",
      "metadata": {
        "id": "view-in-github",
        "colab_type": "text"
      },
      "source": [
        "<a href=\"https://colab.research.google.com/github/jfields82/hankerrank_Write-a-function/blob/master/Stock_Price_Data_using_Python.ipynb\" target=\"_parent\"><img src=\"https://colab.research.google.com/assets/colab-badge.svg\" alt=\"Open In Colab\"/></a>"
      ]
    },
    {
      "cell_type": "code",
      "execution_count": null,
      "metadata": {
        "id": "GZC4xUnOulxS",
        "outputId": "d8422985-36ac-4e4e-f8f6-1d4c4056e54b"
      },
      "outputs": [
        {
          "name": "stdout",
          "output_type": "stream",
          "text": [
            "                                 Open        High         Low       Close  \\\n",
            "Date                                                                        \n",
            "2021-10-13 00:00:00-04:00  141.240005  141.399994  139.199997  140.910004   \n",
            "2021-10-14 00:00:00-04:00  142.110001  143.880005  141.509995  143.759995   \n",
            "2021-10-15 00:00:00-04:00  143.770004  144.899994  143.509995  144.839996   \n",
            "2021-10-18 00:00:00-04:00  143.449997  146.839996  143.160004  146.550003   \n",
            "2021-10-19 00:00:00-04:00  147.009995  149.169998  146.550003  148.759995   \n",
            "\n",
            "                            Adj Close    Volume  \n",
            "Date                                             \n",
            "2021-10-13 00:00:00-04:00  140.124817  78762700  \n",
            "2021-10-14 00:00:00-04:00  142.958908  69907100  \n",
            "2021-10-15 00:00:00-04:00  144.032898  67940300  \n",
            "2021-10-18 00:00:00-04:00  145.733383  85589200  \n",
            "2021-10-19 00:00:00-04:00  147.931046  76378900  \n"
          ]
        }
      ],
      "source": [
        "import pandas as pd\n",
        "import yfinance as yf\n",
        "import datetime\n",
        "from datetime import date, timedelta\n",
        "today = date.today()\n",
        "\n",
        "d1 = today.strftime(\"%Y-%m-%d\")\n",
        "end_date = d1\n",
        "d2 = date.today() - timedelta(days=360)\n",
        "d2 = d2.strftime(\"%Y-%m-%d\")\n",
        "start_date = d2\n",
        "\n",
        "data = yf.download('AAPL', \n",
        "                      start=start_date, \n",
        "                      end=end_date, \n",
        "                      progress=False)\n",
        "print(data.head())"
      ]
    },
    {
      "cell_type": "code",
      "execution_count": null,
      "metadata": {
        "id": "8y4wkiL1ulxU",
        "outputId": "4ea95e47-5e4a-4124-d1f5-59fabc2bb857"
      },
      "outputs": [
        {
          "name": "stdout",
          "output_type": "stream",
          "text": [
            "                       Date        Open        High         Low       Close  \\\n",
            "0 2021-10-13 00:00:00-04:00  141.240005  141.399994  139.199997  140.910004   \n",
            "1 2021-10-14 00:00:00-04:00  142.110001  143.880005  141.509995  143.759995   \n",
            "2 2021-10-15 00:00:00-04:00  143.770004  144.899994  143.509995  144.839996   \n",
            "3 2021-10-18 00:00:00-04:00  143.449997  146.839996  143.160004  146.550003   \n",
            "4 2021-10-19 00:00:00-04:00  147.009995  149.169998  146.550003  148.759995   \n",
            "\n",
            "    Adj Close    Volume  \n",
            "0  140.124817  78762700  \n",
            "1  142.958908  69907100  \n",
            "2  144.032898  67940300  \n",
            "3  145.733383  85589200  \n",
            "4  147.931046  76378900  \n"
          ]
        }
      ],
      "source": [
        "data[\"Date\"] = data.index\n",
        "data = data[[\"Date\", \"Open\", \"High\", \n",
        "             \"Low\", \"Close\", \"Adj Close\", \"Volume\"]]\n",
        "data.reset_index(drop=True, inplace=True)\n",
        "print(data.head())"
      ]
    }
  ],
  "metadata": {
    "kernelspec": {
      "display_name": "Python 3.10.5 64-bit",
      "language": "python",
      "name": "python3"
    },
    "language_info": {
      "codemirror_mode": {
        "name": "ipython",
        "version": 3
      },
      "file_extension": ".py",
      "mimetype": "text/x-python",
      "name": "python",
      "nbconvert_exporter": "python",
      "pygments_lexer": "ipython3",
      "version": "3.10.5"
    },
    "orig_nbformat": 4,
    "vscode": {
      "interpreter": {
        "hash": "26de051ba29f2982a8de78e945f0abaf191376122a1563185a90213a26c5da77"
      }
    },
    "colab": {
      "provenance": [],
      "collapsed_sections": [],
      "include_colab_link": true
    }
  },
  "nbformat": 4,
  "nbformat_minor": 0
}